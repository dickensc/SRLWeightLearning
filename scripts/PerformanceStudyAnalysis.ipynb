{
 "cells": [
  {
   "cell_type": "code",
   "execution_count": 117,
   "metadata": {},
   "outputs": [],
   "source": [
    "import pandas as pd\n",
    "import sys\n",
    "import os\n",
    "import csv\n",
    "import matplotlib.pyplot as plt\n",
    "\n",
    "from sklearn.metrics import confusion_matrix\n",
    "from sklearn.metrics import mean_squared_error\n",
    "from sklearn.metrics import accuracy_score\n",
    "from sklearn.metrics import precision_score\n",
    "from sklearn.metrics import classification_report\n",
    "from sklearn.metrics import f1_score\n",
    "from sklearn.metrics import roc_auc_score\n",
    "\n",
    "datasets = {'Jester': {'n_folds': 8,\n",
    "                       'evaluation_methods': ['MSE', 'AUROC']\n",
    "                      }, \n",
    "            'Epinions': {'n_folds': 8,\n",
    "                         'evaluation_methods': ['F1', 'AUROC']\n",
    "                        },\n",
    "            'Cora': {'n_folds': 8, \n",
    "                     'evaluation_methods': ['F1', 'Accuracy']\n",
    "                    },\n",
    "            'Citeseer': {'n_folds': 8, \n",
    "                         'evaluation_methods': ['F1', 'Accuracy']\n",
    "                        },\n",
    "            'LastFM': {'n_folds': 5, \n",
    "                       'evaluation_methods': ['MSE', 'AUROC']\n",
    "                      }\n",
    "           }\n",
    "\n",
    "# weight_learning_methods = [\"BOWLSS\", \"BOWLOS\", \"LME\", \"MLE\",\n",
    "#            \"MPLE\", \"RGS\", \"CRGS\", \"HB\"]\n",
    "\n",
    "weight_learning_methods = {\"psl\": [\"BOWLSS\", \"BOWLOS\", \"UNIFORM\"],\n",
    "                           \"tuffy\": [\"UNIFORM\"]}"
   ]
  },
  {
   "cell_type": "code",
   "execution_count": 2,
   "metadata": {},
   "outputs": [
    {
     "name": "stdout",
     "output_type": "stream",
     "text": [
      "/scratch/charles/SRLWeightLearning/scripts\n"
     ]
    }
   ],
   "source": [
    "!pwd"
   ]
  },
  {
   "cell_type": "code",
   "execution_count": 118,
   "metadata": {},
   "outputs": [],
   "source": [
    "# dataset=\"epinions\"\n",
    "# wl_method=\"UNIFORM\"\n",
    "# evaluation_metric=\"Discrete\"\n",
    "# fold=0\n",
    "# predicate=\"trusts\"\n",
    "\n",
    "# dataset=\"citeseer\"\n",
    "# wl_method=\"UNIFORM\"\n",
    "# evaluation_metric=\"Categorical\"\n",
    "# fold=0\n",
    "# predicate=\"hasCat\"\n",
    "\n",
    "dataset=\"jester\"\n",
    "wl_method=\"UNIFORM\"\n",
    "evaluation_metric=\"Continuous\"\n",
    "fold=0\n",
    "predicate=\"rating\""
   ]
  },
  {
   "cell_type": "code",
   "execution_count": 119,
   "metadata": {},
   "outputs": [],
   "source": [
    "def load_truth_frame(dataset, fold, predicate):\n",
    "    # truth dataframe \n",
    "    truth_path = \"../psl-examples/{}/data/{}/{}/eval/{}_truth.txt\".format(dataset, dataset, fold, predicate)\n",
    "    truth_df = pd.read_csv(truth_path, sep='\\t', header=None)\n",
    "    \n",
    "    # clean up column names and set multi-index for predicate\n",
    "    arg_columns = ['arg_' + str(col) for col in truth_df.columns[:-1]]\n",
    "    value_column = ['val']\n",
    "    truth_df.columns = arg_columns + value_column\n",
    "    truth_df = truth_df.astype({col: int for col in arg_columns})\n",
    "    truth_df = truth_df.set_index(arg_columns)\n",
    "    \n",
    "    return truth_df"
   ]
  },
  {
   "cell_type": "code",
   "execution_count": 120,
   "metadata": {},
   "outputs": [],
   "source": [
    "def get_psl_experiment_prediction_frame(dataset, wl_method, evaluation_metric, fold, predicate):\n",
    "    \n",
    "    # predicted dataframe \n",
    "    predicted_path = \"../results/weightlearning/psl/performance_study/{}/{}/{}/{}/inferred-predicates/{}.txt\".format(\n",
    "        dataset, wl_method, evaluation_metric, fold, predicate.upper())\n",
    "    predicted_df = pd.read_csv(predicted_path, sep='\\t', header=None)\n",
    "\n",
    "    # clean up column names and set multi-index for predicate\n",
    "    arg_columns = ['arg_' + str(col) for col in predicted_df.columns[:-1]]\n",
    "    value_column = ['val']\n",
    "    predicted_df.columns = arg_columns + value_column\n",
    "    predicted_df = predicted_df.astype({col: int for col in arg_columns})\n",
    "    predicted_df = predicted_df.set_index(arg_columns)\n",
    "\n",
    "    # truth dataframe \n",
    "    truth_df = load_truth_frame(dataset, fold, predicate)\n",
    "\n",
    "    # Join predicted_df and truth_df on the arguments\n",
    "    prediction_frame = truth_df.join(predicted_df, how=\"left\",\n",
    "                                     lsuffix='_truth', rsuffix='_predicted').fillna(0)\n",
    "\n",
    "    return prediction_frame"
   ]
  },
  {
   "cell_type": "code",
   "execution_count": 121,
   "metadata": {},
   "outputs": [],
   "source": [
    "def load_file(filename):\n",
    "    output = []\n",
    "\n",
    "    with open(filename, 'r') as tsvfile:\n",
    "        reader = csv.reader(tsvfile, delimiter='\\t')\n",
    "        for line in reader:\n",
    "            output.append(line)\n",
    "\n",
    "    return output\n",
    "\n",
    "def load_tuffy(tuffy_dir):\n",
    "    results_path = os.path.join(tuffy_dir, 'inferred-predicates.txt')\n",
    "    results_tmp = load_file(results_path)\n",
    "    results = []\n",
    "    \n",
    "    for result in results_tmp:\n",
    "        if len(result) == 1:\n",
    "            # then we did not run in marginal mode, i.e. outputs in this file are all \"true\" or 1\n",
    "            predicate = result[0][result[0].find(\"(\")+1:result[0].find(\")\")].replace(' ', '').split(',')\n",
    "            predicate.append(1.0)\n",
    "            results.append(predicate)\n",
    "        else:\n",
    "            # we ran this experiment in marginal mode, i.e., the marginal probability precedes the ground atom\n",
    "            predicate = result[1][result[1].find(\"(\")+1:result[1].find(\")\")].replace(' ', '').split(',')\n",
    "            predicate.append(result[0])\n",
    "            results.append(predicate)\n",
    "\n",
    "    return results\n",
    "\n",
    "def get_tuffy_experiment_prediction_frame(dataset, wl_method, evaluation_metric, fold, predicate):\n",
    "    \n",
    "    # read inferred and truth data\n",
    "    tuffy_experiment_directory = \"../results/weightlearning/tuffy/performance_study/{}/{}/{}/{}\".format(\n",
    "        dataset, wl_method, evaluation_metric, fold)\n",
    "\n",
    "    results = load_tuffy(tuffy_experiment_directory)\n",
    "    predicted_df = pd.DataFrame(results)\n",
    "\n",
    "    # clean up column names and set multi-index for predicate\n",
    "    arg_columns = ['arg_' + str(col) for col in predicted_df.columns[:-1]]\n",
    "    value_column = ['val']\n",
    "    predicted_df.columns = arg_columns + value_column\n",
    "    predicted_df = predicted_df.astype({col: int for col in arg_columns})\n",
    "    predicted_df = predicted_df.set_index(arg_columns)\n",
    "\n",
    "    # truth dataframe \n",
    "    truth_df = load_truth_frame(dataset, fold, predicate)\n",
    "\n",
    "    # Join predicted_df and truth_df on the arguments\n",
    "    prediction_frame = truth_df.join(predicted_df, how=\"left\",\n",
    "                                     lsuffix='_truth', rsuffix='_predicted').fillna(0)\n",
    "\n",
    "    return prediction_frame"
   ]
  },
  {
   "cell_type": "code",
   "execution_count": 128,
   "metadata": {},
   "outputs": [],
   "source": [
    "prediction_frame = get_psl_experiment_prediction_frame(dataset, wl_method, evaluation_metric, fold, predicate)"
   ]
  },
  {
   "cell_type": "code",
   "execution_count": 125,
   "metadata": {},
   "outputs": [],
   "source": [
    "def evaluate_mse(predictions, truths):\n",
    "    mse = {\"mse\": mean_squared_error(truths, predictions)}\n",
    "    return mse\n",
    "\n",
    "\n",
    "def evaluate_accuracy(predictions, truths):\n",
    "    accuracy = {\"accuracy\": accuracy_score(truths, predictions)}\n",
    "    return accuracy\n",
    "\n",
    "\n",
    "def evaluate_f1(predictions, truths, threshold=0.5):\n",
    "    b_predictions = predictions > threshold\n",
    "    b_truths = truths > threshold\n",
    "    \n",
    "    f_1 = {\"positive_class_f1\": f1_score(b_truths, b_predictions, pos_label=True),\n",
    "           \"negative_class_f1\": f1_score(b_truths, b_predictions, pos_label=False)}\n",
    "\n",
    "    return f_1\n",
    "\n",
    "def evaluate_roc_auc_score(predictions, truths, threshold=0.5):\n",
    "    relevant = truths > threshold\n",
    "    auroc = {\"auroc\": roc_auc_score(relevant, predictions)}\n",
    "    return auroc"
   ]
  },
  {
   "cell_type": "code",
   "execution_count": null,
   "metadata": {},
   "outputs": [],
   "source": [
    "def write_psl_experiment_performance_results(dataset, wl_method, metric, n_folds):\n",
    "    # for each metric in the evaluator type make a series with the index representing the fold and value the outcome\n",
    "    "
   ]
  },
  {
   "cell_type": "code",
   "execution_count": 136,
   "metadata": {},
   "outputs": [],
   "source": [
    "def write_psl_performance_results():\n",
    "    # in results/weightlearning/psl/performance_study write \n",
    "    # a performance.csv file with columns \n",
    "    # Dataset | WL_Method | Evaluation_Method | Mean | Standard_Deviation\n",
    "    \n",
    "    # we are going to overwrite the file with all the most up to date information\n",
    "    \n",
    "    psl_performance_frame = pd.DataFrame(columns=['Dataset', 'Wl_Method', 'Evaluation_Method', 'Mean', 'Standard_Deviation'])\n",
    "    \n",
    "    # find all the files that are in the results directory\n",
    "    path = '../results/weightlearning/psl/performance_study'\n",
    "    datasets = [dataset for dataset in os.listdir(path) if os.path.isdir(os.path.join(path, dataset))]\n",
    "    \n",
    "    # iterate over all datasets adding the results to the psl_performance_frame\n",
    "    for dataset in datasets:\n",
    "        # find all the files that are in the results directory\n",
    "        path = '../results/weightlearning/psl/performance_study'\n",
    "        datasets = [dataset for dataset in os.listdir(path) if os.path.isdir(os.path.join(path, dataset))]"
   ]
  },
  {
   "cell_type": "code",
   "execution_count": 137,
   "metadata": {},
   "outputs": [
    {
     "data": {
      "text/plain": [
       "['jester']"
      ]
     },
     "execution_count": 137,
     "metadata": {},
     "output_type": "execute_result"
    }
   ],
   "source": [
    "path = '../results/weightlearning/psl/performance_study'\n",
    "datasets = [dataset for dataset in os.listdir(path) if os.path.isdir(os.path.join(path, dataset))]\n",
    "datasets"
   ]
  },
  {
   "cell_type": "code",
   "execution_count": 19,
   "metadata": {},
   "outputs": [],
   "source": [
    "# build single dataframe for each dataset\n",
    "for dataset_name in datasets.keys():\n",
    "    datasets[dataset_name][\"dataframe\"] = pd.DataFrame(index=range(datasets[dataset_name][\"n_folds\"]));\n",
    "    datasets[dataset_name][\"dataframe\"].index.name = 'fold'\n",
    "    for evaluation_method in datasets[dataset_name][\"evaluation_methods\"]:\n",
    "        for wl_method in weight_learning_methods:\n",
    "            results = pd.read_csv(dataset_name + '/' + dataset_name + \"-\" + wl_method + \"-eval-\" + evaluation_method + \".csv\", header=None).values[0]\n",
    "            results = results[:datasets[dataset_name]['n_folds']]\n",
    "            datasets[dataset_name][\"dataframe\"][evaluation_method + \"_\" + wl_method] = results\n",
    "\n",
    "columns=set()\n",
    "for dataset_name in datasets.keys():\n",
    "    for evaluation_method in datasets[dataset_name][\"evaluation_methods\"]:\n",
    "        columns.add(dataset_name + '_' + evaluation_method + '_mean')\n",
    "        columns.add(dataset_name + '_' + evaluation_method + '_standardDeviation')\n",
    "\n",
    "performance_dataframe = pd.DataFrame(index=weight_learning_methods, columns=columns)\n",
    "for wl_method in weight_learning_methods:\n",
    "    for dataset_name in datasets.keys():\n",
    "        for evaluation_method in datasets[dataset_name][\"evaluation_methods\"]:\n",
    "            results = pd.read_csv(dataset_name + '/' + dataset_name + \"-\" + wl_method + \"-eval-\" + evaluation_method + \".csv\", header=None).values[0]\n",
    "            results = results[:datasets[dataset_name]['n_folds']]\n",
    "            performance_dataframe.loc[wl_method, dataset_name + '_' + evaluation_method + '_mean'] = results.mean()\n",
    "            performance_dataframe.loc[wl_method, dataset_name + '_' + evaluation_method + '_standardDeviation'] = results.std()\n",
    "            \n",
    "performance_dataframe = performance_dataframe.reindex(sorted(performance_dataframe.columns), axis=1)\n",
    "performance_dataframe.to_csv(\"performance_study_results.csv\")"
   ]
  },
  {
   "cell_type": "code",
   "execution_count": 18,
   "metadata": {},
   "outputs": [
    {
     "data": {
      "text/html": [
       "<div>\n",
       "<style scoped>\n",
       "    .dataframe tbody tr th:only-of-type {\n",
       "        vertical-align: middle;\n",
       "    }\n",
       "\n",
       "    .dataframe tbody tr th {\n",
       "        vertical-align: top;\n",
       "    }\n",
       "\n",
       "    .dataframe thead th {\n",
       "        text-align: right;\n",
       "    }\n",
       "</style>\n",
       "<table border=\"1\" class=\"dataframe\">\n",
       "  <thead>\n",
       "    <tr style=\"text-align: right;\">\n",
       "      <th></th>\n",
       "      <th>Citeseer_Accuracy_mean</th>\n",
       "      <th>Citeseer_Accuracy_standardDeviation</th>\n",
       "      <th>Citeseer_F1_mean</th>\n",
       "      <th>Citeseer_F1_standardDeviation</th>\n",
       "      <th>Cora_Accuracy_mean</th>\n",
       "      <th>Cora_Accuracy_standardDeviation</th>\n",
       "      <th>Cora_F1_mean</th>\n",
       "      <th>Cora_F1_standardDeviation</th>\n",
       "      <th>Epinions_AUROC_mean</th>\n",
       "      <th>Epinions_AUROC_standardDeviation</th>\n",
       "      <th>Epinions_F1_mean</th>\n",
       "      <th>Epinions_F1_standardDeviation</th>\n",
       "      <th>Jester_AUROC_mean</th>\n",
       "      <th>Jester_AUROC_standardDeviation</th>\n",
       "      <th>Jester_MSE_mean</th>\n",
       "      <th>Jester_MSE_standardDeviation</th>\n",
       "      <th>LastFM_AUROC_mean</th>\n",
       "      <th>LastFM_AUROC_standardDeviation</th>\n",
       "      <th>LastFM_MSE_mean</th>\n",
       "      <th>LastFM_MSE_standardDeviation</th>\n",
       "    </tr>\n",
       "  </thead>\n",
       "  <tbody>\n",
       "    <tr>\n",
       "      <th>RGS</th>\n",
       "      <td>0.741013</td>\n",
       "      <td>0.0117652</td>\n",
       "      <td>0.797617</td>\n",
       "      <td>0.00695118</td>\n",
       "      <td>0.83299</td>\n",
       "      <td>0.014448</td>\n",
       "      <td>0.866319</td>\n",
       "      <td>0.0148332</td>\n",
       "      <td>0.811908</td>\n",
       "      <td>0.0302242</td>\n",
       "      <td>0.964475</td>\n",
       "      <td>0.00568882</td>\n",
       "      <td>0.769814</td>\n",
       "      <td>0.00155714</td>\n",
       "      <td>0.0521525</td>\n",
       "      <td>0.000476229</td>\n",
       "      <td>0.598016</td>\n",
       "      <td>0.00459492</td>\n",
       "      <td>0.078146</td>\n",
       "      <td>0.000922336</td>\n",
       "    </tr>\n",
       "    <tr>\n",
       "      <th>CRGS</th>\n",
       "      <td>0.744561</td>\n",
       "      <td>0.0106014</td>\n",
       "      <td>0.788449</td>\n",
       "      <td>0.00798026</td>\n",
       "      <td>0.833914</td>\n",
       "      <td>0.0176771</td>\n",
       "      <td>0.855506</td>\n",
       "      <td>0.0115167</td>\n",
       "      <td>0.814475</td>\n",
       "      <td>0.0217344</td>\n",
       "      <td>0.957941</td>\n",
       "      <td>0.00634273</td>\n",
       "      <td>0.771078</td>\n",
       "      <td>0.00151763</td>\n",
       "      <td>0.0552375</td>\n",
       "      <td>0.000269525</td>\n",
       "      <td>0.594382</td>\n",
       "      <td>0.0018314</td>\n",
       "      <td>0.091716</td>\n",
       "      <td>0.000832697</td>\n",
       "    </tr>\n",
       "    <tr>\n",
       "      <th>HB</th>\n",
       "      <td>0.743052</td>\n",
       "      <td>0.00880311</td>\n",
       "      <td>0.785321</td>\n",
       "      <td>0.00770918</td>\n",
       "      <td>0.836037</td>\n",
       "      <td>0.0152339</td>\n",
       "      <td>0.857889</td>\n",
       "      <td>0.0099019</td>\n",
       "      <td>0.808821</td>\n",
       "      <td>0.0224004</td>\n",
       "      <td>0.957346</td>\n",
       "      <td>0.00581896</td>\n",
       "      <td>0.7709</td>\n",
       "      <td>0.00151919</td>\n",
       "      <td>0.0571412</td>\n",
       "      <td>0.000176028</td>\n",
       "      <td>0.594382</td>\n",
       "      <td>0.0018314</td>\n",
       "      <td>0.091716</td>\n",
       "      <td>0.000832697</td>\n",
       "    </tr>\n",
       "  </tbody>\n",
       "</table>\n",
       "</div>"
      ],
      "text/plain": [
       "     Citeseer_Accuracy_mean Citeseer_Accuracy_standardDeviation  \\\n",
       "RGS                0.741013                           0.0117652   \n",
       "CRGS               0.744561                           0.0106014   \n",
       "HB                 0.743052                          0.00880311   \n",
       "\n",
       "     Citeseer_F1_mean Citeseer_F1_standardDeviation Cora_Accuracy_mean  \\\n",
       "RGS          0.797617                    0.00695118            0.83299   \n",
       "CRGS         0.788449                    0.00798026           0.833914   \n",
       "HB           0.785321                    0.00770918           0.836037   \n",
       "\n",
       "     Cora_Accuracy_standardDeviation Cora_F1_mean Cora_F1_standardDeviation  \\\n",
       "RGS                         0.014448     0.866319                 0.0148332   \n",
       "CRGS                       0.0176771     0.855506                 0.0115167   \n",
       "HB                         0.0152339     0.857889                 0.0099019   \n",
       "\n",
       "     Epinions_AUROC_mean Epinions_AUROC_standardDeviation Epinions_F1_mean  \\\n",
       "RGS             0.811908                        0.0302242         0.964475   \n",
       "CRGS            0.814475                        0.0217344         0.957941   \n",
       "HB              0.808821                        0.0224004         0.957346   \n",
       "\n",
       "     Epinions_F1_standardDeviation Jester_AUROC_mean  \\\n",
       "RGS                     0.00568882          0.769814   \n",
       "CRGS                    0.00634273          0.771078   \n",
       "HB                      0.00581896            0.7709   \n",
       "\n",
       "     Jester_AUROC_standardDeviation Jester_MSE_mean  \\\n",
       "RGS                      0.00155714       0.0521525   \n",
       "CRGS                     0.00151763       0.0552375   \n",
       "HB                       0.00151919       0.0571412   \n",
       "\n",
       "     Jester_MSE_standardDeviation LastFM_AUROC_mean  \\\n",
       "RGS                   0.000476229          0.598016   \n",
       "CRGS                  0.000269525          0.594382   \n",
       "HB                    0.000176028          0.594382   \n",
       "\n",
       "     LastFM_AUROC_standardDeviation LastFM_MSE_mean  \\\n",
       "RGS                      0.00459492        0.078146   \n",
       "CRGS                      0.0018314        0.091716   \n",
       "HB                        0.0018314        0.091716   \n",
       "\n",
       "     LastFM_MSE_standardDeviation  \n",
       "RGS                   0.000922336  \n",
       "CRGS                  0.000832697  \n",
       "HB                    0.000832697  "
      ]
     },
     "execution_count": 18,
     "metadata": {},
     "output_type": "execute_result"
    }
   ],
   "source": [
    "performance_dataframe"
   ]
  },
  {
   "cell_type": "code",
   "execution_count": 2,
   "metadata": {},
   "outputs": [],
   "source": [
    "for dataset_name in datasets.keys():\n",
    "    datasets[dataset_name][\"dataframe\"] = pd.DataFrame(index=range(datasets[dataset_name][\"n_folds\"]));\n",
    "    datasets[dataset_name][\"dataframe\"].index.name = 'fold'\n",
    "    for evaluation_method in datasets[dataset_name][\"evaluation_methods\"]:\n",
    "        for wl_method in weight_learning_methods:\n",
    "            results = pd.read_csv(dataset_name + '/' + dataset_name + \"-\" + wl_method + \"-eval-\" + evaluation_method + \".csv\", header=None).values[0]\n",
    "            results = results[:datasets[dataset_name]['n_folds']]\n",
    "            datasets[dataset_name][\"dataframe\"][evaluation_method + \"_\" + wl_method] = results"
   ]
  },
  {
   "cell_type": "code",
   "execution_count": 6,
   "metadata": {},
   "outputs": [
    {
     "data": {
      "text/plain": [
       "<matplotlib.axes._subplots.AxesSubplot at 0x7fcc001aecc0>"
      ]
     },
     "execution_count": 6,
     "metadata": {},
     "output_type": "execute_result"
    },
    {
     "data": {
      "image/png": "[encoded data removed]",
      "text/plain": [
       "<Figure size 432x288 with 1 Axes>"
      ]
     },
     "metadata": {
      "needs_background": "light"
     },
     "output_type": "display_data"
    }
   ],
   "source": [
    "dataset_name = 'Jester'\n",
    "datasets[dataset_name][\"dataframe\"].mean().plot(kind='bar')"
   ]
  },
  {
   "cell_type": "code",
   "execution_count": 72,
   "metadata": {},
   "outputs": [],
   "source": [
    "columns=set()\n",
    "for dataset_name in datasets.keys():\n",
    "    for column in datasets[dataset_name]['dataframe'].columns:\n",
    "        columns.add(column)"
   ]
  },
  {
   "cell_type": "code",
   "execution_count": 78,
   "metadata": {},
   "outputs": [],
   "source": [
    "mean_dataframe = pd.DataFrame(columns=columns)\n",
    "standard_deviation_dataframe = pd.DataFrame(columns=columns)"
   ]
  },
  {
   "cell_type": "code",
   "execution_count": 79,
   "metadata": {},
   "outputs": [],
   "source": [
    "for dataset_name in datasets.keys():\n",
    "    mean_series = datasets[dataset_name]['dataframe'].mean()\n",
    "    mean_series.name = dataset_name\n",
    "    mean_dataframe = mean_dataframe.append(mean_series)\n",
    "    \n",
    "    standard_deviation_series = datasets[dataset_name]['dataframe'].std()\n",
    "    standard_deviation_series.name = dataset_name\n",
    "    standard_deviation_dataframe = standard_deviation_dataframe.append(standard_deviation_series)"
   ]
  },
  {
   "cell_type": "code",
   "execution_count": 90,
   "metadata": {},
   "outputs": [],
   "source": [
    "performance_dataframe = standard_deviation_dataframe.join(mean_dataframe, lsuffix='_std', rsuffix='_mean')\n",
    "performance_dataframe = performance_dataframe.reindex(sorted(performance_dataframe.columns), axis=1)\n",
    "performance_dataframe.to_csv(\"performance_study_results.csv\")"
   ]
  },
  {
   "cell_type": "code",
   "execution_count": 68,
   "metadata": {},
   "outputs": [
    {
     "data": {
      "text/html": [
       "<div>\n",
       "<style scoped>\n",
       "    .dataframe tbody tr th:only-of-type {\n",
       "        vertical-align: middle;\n",
       "    }\n",
       "\n",
       "    .dataframe tbody tr th {\n",
       "        vertical-align: top;\n",
       "    }\n",
       "\n",
       "    .dataframe thead th {\n",
       "        text-align: right;\n",
       "    }\n",
       "</style>\n",
       "<table border=\"1\" class=\"dataframe\">\n",
       "  <thead>\n",
       "    <tr style=\"text-align: right;\">\n",
       "      <th></th>\n",
       "      <th>RGS_MSE</th>\n",
       "      <th>CRGS_F1</th>\n",
       "      <th>HB_MSE</th>\n",
       "      <th>HB_F1</th>\n",
       "      <th>RGS_F1</th>\n",
       "      <th>RGS_Accuracy</th>\n",
       "      <th>HB_Accuracy</th>\n",
       "      <th>CRGS_MSE</th>\n",
       "      <th>CRGS_Accuracy</th>\n",
       "      <th>RGS_AUROC</th>\n",
       "      <th>HB_AUROC</th>\n",
       "      <th>CRGS_AUROC</th>\n",
       "    </tr>\n",
       "  </thead>\n",
       "  <tbody>\n",
       "    <tr>\n",
       "      <th>Jester</th>\n",
       "      <td>0.052152</td>\n",
       "      <td>NaN</td>\n",
       "      <td>0.057141</td>\n",
       "      <td>NaN</td>\n",
       "      <td>NaN</td>\n",
       "      <td>NaN</td>\n",
       "      <td>NaN</td>\n",
       "      <td>0.055238</td>\n",
       "      <td>NaN</td>\n",
       "      <td>0.769814</td>\n",
       "      <td>0.770900</td>\n",
       "      <td>0.771078</td>\n",
       "    </tr>\n",
       "    <tr>\n",
       "      <th>Epinions</th>\n",
       "      <td>NaN</td>\n",
       "      <td>0.957941</td>\n",
       "      <td>NaN</td>\n",
       "      <td>0.957346</td>\n",
       "      <td>0.964475</td>\n",
       "      <td>NaN</td>\n",
       "      <td>NaN</td>\n",
       "      <td>NaN</td>\n",
       "      <td>NaN</td>\n",
       "      <td>0.811908</td>\n",
       "      <td>0.808821</td>\n",
       "      <td>0.814475</td>\n",
       "    </tr>\n",
       "    <tr>\n",
       "      <th>Cora</th>\n",
       "      <td>NaN</td>\n",
       "      <td>0.855506</td>\n",
       "      <td>NaN</td>\n",
       "      <td>0.857889</td>\n",
       "      <td>0.866319</td>\n",
       "      <td>0.832990</td>\n",
       "      <td>0.836037</td>\n",
       "      <td>NaN</td>\n",
       "      <td>0.833914</td>\n",
       "      <td>NaN</td>\n",
       "      <td>NaN</td>\n",
       "      <td>NaN</td>\n",
       "    </tr>\n",
       "    <tr>\n",
       "      <th>Citeseer</th>\n",
       "      <td>NaN</td>\n",
       "      <td>0.788449</td>\n",
       "      <td>NaN</td>\n",
       "      <td>0.785321</td>\n",
       "      <td>0.797617</td>\n",
       "      <td>0.741013</td>\n",
       "      <td>0.743053</td>\n",
       "      <td>NaN</td>\n",
       "      <td>0.744561</td>\n",
       "      <td>NaN</td>\n",
       "      <td>NaN</td>\n",
       "      <td>NaN</td>\n",
       "    </tr>\n",
       "    <tr>\n",
       "      <th>LastFM</th>\n",
       "      <td>0.078146</td>\n",
       "      <td>NaN</td>\n",
       "      <td>0.091716</td>\n",
       "      <td>NaN</td>\n",
       "      <td>NaN</td>\n",
       "      <td>NaN</td>\n",
       "      <td>NaN</td>\n",
       "      <td>0.091716</td>\n",
       "      <td>NaN</td>\n",
       "      <td>0.598016</td>\n",
       "      <td>0.594382</td>\n",
       "      <td>0.594382</td>\n",
       "    </tr>\n",
       "  </tbody>\n",
       "</table>\n",
       "</div>"
      ],
      "text/plain": [
       "           RGS_MSE   CRGS_F1    HB_MSE     HB_F1    RGS_F1  RGS_Accuracy  \\\n",
       "Jester    0.052152       NaN  0.057141       NaN       NaN           NaN   \n",
       "Epinions       NaN  0.957941       NaN  0.957346  0.964475           NaN   \n",
       "Cora           NaN  0.855506       NaN  0.857889  0.866319      0.832990   \n",
       "Citeseer       NaN  0.788449       NaN  0.785321  0.797617      0.741013   \n",
       "LastFM    0.078146       NaN  0.091716       NaN       NaN           NaN   \n",
       "\n",
       "          HB_Accuracy  CRGS_MSE  CRGS_Accuracy  RGS_AUROC  HB_AUROC  \\\n",
       "Jester            NaN  0.055238            NaN   0.769814  0.770900   \n",
       "Epinions          NaN       NaN            NaN   0.811908  0.808821   \n",
       "Cora         0.836037       NaN       0.833914        NaN       NaN   \n",
       "Citeseer     0.743053       NaN       0.744561        NaN       NaN   \n",
       "LastFM            NaN  0.091716            NaN   0.598016  0.594382   \n",
       "\n",
       "          CRGS_AUROC  \n",
       "Jester      0.771078  \n",
       "Epinions    0.814475  \n",
       "Cora             NaN  \n",
       "Citeseer         NaN  \n",
       "LastFM      0.594382  "
      ]
     },
     "execution_count": 68,
     "metadata": {},
     "output_type": "execute_result"
    }
   ],
   "source": [
    "mean_dataframe"
   ]
  },
  {
   "cell_type": "code",
   "execution_count": 26,
   "metadata": {},
   "outputs": [
    {
     "data": {
      "text/plain": [
       "{'1', '2'}"
      ]
     },
     "execution_count": 26,
     "metadata": {},
     "output_type": "execute_result"
    }
   ],
   "source": [
    "columns"
   ]
  },
  {
   "cell_type": "code",
   "execution_count": 10,
   "metadata": {},
   "outputs": [],
   "source": [
    "l=[0,12]"
   ]
  },
  {
   "cell_type": "code",
   "execution_count": 12,
   "metadata": {},
   "outputs": [
    {
     "ename": "AttributeError",
     "evalue": "'list' object has no attribute 'mean'",
     "output_type": "error",
     "traceback": [
      "\u001b[0;31m---------------------------------------------------------------------------\u001b[0m",
      "\u001b[0;31mAttributeError\u001b[0m                            Traceback (most recent call last)",
      "\u001b[0;32m<ipython-input-12-f72541674636>\u001b[0m in \u001b[0;36m<module>\u001b[0;34m\u001b[0m\n\u001b[0;32m----> 1\u001b[0;31m \u001b[0ml\u001b[0m\u001b[0;34m.\u001b[0m\u001b[0mmean\u001b[0m\u001b[0;34m(\u001b[0m\u001b[0;34m)\u001b[0m\u001b[0;34m\u001b[0m\u001b[0;34m\u001b[0m\u001b[0m\n\u001b[0m",
      "\u001b[0;31mAttributeError\u001b[0m: 'list' object has no attribute 'mean'"
     ]
    }
   ],
   "source": [
    "l.mean()"
   ]
  },
  {
   "cell_type": "code",
   "execution_count": null,
   "metadata": {},
   "outputs": [],
   "source": []
  }
 ],
 "metadata": {
  "kernelspec": {
   "display_name": "Python 3",
   "language": "python",
   "name": "python3"
  },
  "language_info": {
   "codemirror_mode": {
    "name": "ipython",
    "version": 3
   },
   "file_extension": ".py",
   "mimetype": "text/x-python",
   "name": "python",
   "nbconvert_exporter": "python",
   "pygments_lexer": "ipython3",
   "version": "3.6.8"
  }
 },
 "nbformat": 4,
 "nbformat_minor": 4
}
